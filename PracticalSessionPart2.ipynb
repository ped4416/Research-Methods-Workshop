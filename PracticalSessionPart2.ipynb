{
  "nbformat": 4,
  "nbformat_minor": 0,
  "metadata": {
    "colab": {
      "name": "PracticalSessionPart2.ipynb",
      "provenance": [],
      "collapsed_sections": []
    },
    "kernelspec": {
      "name": "python3",
      "display_name": "Python 3"
    }
  },
  "cells": [
    {
      "cell_type": "markdown",
      "metadata": {
        "id": "UaLKnBRcfZ9R"
      },
      "source": [
        "# Research Methods Talk 16th Dec 2020\n",
        "##Introduction to statistics for questionnaires\n",
        "###Practical session Part 2\n",
        "\n",
        "* Taken from Chapter 12 in the **Computer Bookelet.pdf** in your resourses folder\n",
        "* Thanks to Mike Griffiths for this content - if you have SPSS you can work through many other excellent **Core Quantitative Methods** in your own time. This booklet summaries many statistical methods that may be useful for your research. \n",
        "\n",
        "First we need to import our data as a .csv file.\n",
        "\n",
        "*   We will use [pandas](https://pandas.pydata.org/) to do this.\n",
        "*   We are using Colab (short for Colaboratory) to access our data and run some statistical tests on that data! \n",
        "\n"
      ]
    },
    {
      "cell_type": "code",
      "metadata": {
        "colab": {
          "base_uri": "https://localhost:8080/"
        },
        "id": "dYMDPx8sx8zF",
        "outputId": "3cba33fd-1ab4-407c-e6f8-110d6093be2b"
      },
      "source": [
        "#load our dependencies \n",
        "from google.colab import files\n",
        "from __future__ import print_function\n",
        "import pandas as pd\n",
        "import numpy as np\n",
        "from scipy import stats\n",
        "import matplotlib.pyplot as plt\n",
        "\n",
        "print(\"pd v = {}\\nnp v = {}\".format(pd.__version__, np.__version__))"
      ],
      "execution_count": 113,
      "outputs": [
        {
          "output_type": "stream",
          "text": [
            "pd v = 1.1.5\n",
            "np v = 1.18.5\n"
          ],
          "name": "stdout"
        }
      ]
    },
    {
      "cell_type": "code",
      "metadata": {
        "id": "11ym_NQcgI-g",
        "colab": {
          "resources": {
            "http://localhost:8080/nbextensions/google.colab/files.js": {
              "data": "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",
              "ok": true,
              "headers": [
                [
                  "content-type",
                  "application/javascript"
                ]
              ],
              "status": 200,
              "status_text": ""
            }
          },
          "base_uri": "https://localhost:8080/",
          "height": 72
        },
        "outputId": "7ccd3858-cea6-4a74-a205-1a5befd2b8bd"
      },
      "source": [
        "#we will upload from our local drive \n",
        "#run this cell and select the file from your computer...\n",
        "from google.colab import files\n",
        "uploaded = files.upload()"
      ],
      "execution_count": 152,
      "outputs": [
        {
          "output_type": "display_data",
          "data": {
            "text/html": [
              "\n",
              "     <input type=\"file\" id=\"files-d9336133-04c0-412a-95cd-6c444c3f343b\" name=\"files[]\" multiple disabled\n",
              "        style=\"border:none\" />\n",
              "     <output id=\"result-d9336133-04c0-412a-95cd-6c444c3f343b\">\n",
              "      Upload widget is only available when the cell has been executed in the\n",
              "      current browser session. Please rerun this cell to enable.\n",
              "      </output>\n",
              "      <script src=\"/nbextensions/google.colab/files.js\"></script> "
            ],
            "text/plain": [
              "<IPython.core.display.HTML object>"
            ]
          },
          "metadata": {
            "tags": []
          }
        },
        {
          "output_type": "stream",
          "text": [
            "Saving Questionnaire_Data_v1.csv to Questionnaire_Data_v1 (4).csv\n"
          ],
          "name": "stdout"
        }
      ]
    },
    {
      "cell_type": "markdown",
      "metadata": {
        "id": "FLQBwD631FH8"
      },
      "source": [
        "#Introdcution to the data\n",
        "The data file contains the results of an imaginary questionnaire, given to 60 participants.\n",
        "The data file contains the sort of information you might collect from a simple questionnaire:\n",
        "* participant numbers (Part). It is good practice to give each participant a\n",
        "number, and to write the same number on each questionnaire. This\n",
        "allows you to check back to the questionnaire if you need to.\n",
        "* demographic information (Gender and Age)\n",
        "* participants’ responses to six questions (Q1 to Q6). These are related to\n",
        "job satisfaction (e.g. “I like the work I do”). Responses are on a Likert\n",
        "scale running from 1 (strongly disagree) to 7 (strongly agree).\n"
      ]
    },
    {
      "cell_type": "code",
      "metadata": {
        "colab": {
          "base_uri": "https://localhost:8080/"
        },
        "id": "CWIah6wr2JeT",
        "outputId": "c87da99b-6c86-4673-edd2-9e5c18f89355"
      },
      "source": [
        "#now we can load the data into a pd DataFrame to view \n",
        "import io\n",
        "df = pd.read_csv(io.BytesIO(uploaded['Questionnaire_Data_v1.csv']))\n",
        "\n",
        "#lets view our data\n",
        "print(df.head(3))\n",
        "print(df.info()) #due to missing data notice \"object\" Dtype"
      ],
      "execution_count": 153,
      "outputs": [
        {
          "output_type": "stream",
          "text": [
            "   Part  Gender  Age Q1  Q2  Q3  Q4 Q5  Q6\n",
            "0     1       1   23  7   4   3   5  6   5\n",
            "1     2       2   46  2   2   5   1  4   2\n",
            "2     3       2   42  4   4   5   4  3   3\n",
            "<class 'pandas.core.frame.DataFrame'>\n",
            "RangeIndex: 60 entries, 0 to 59\n",
            "Data columns (total 9 columns):\n",
            " #   Column  Non-Null Count  Dtype \n",
            "---  ------  --------------  ----- \n",
            " 0   Part    60 non-null     int64 \n",
            " 1   Gender  60 non-null     int64 \n",
            " 2   Age     60 non-null     int64 \n",
            " 3   Q1      60 non-null     object\n",
            " 4   Q2      60 non-null     int64 \n",
            " 5   Q3      60 non-null     int64 \n",
            " 6   Q4      60 non-null     int64 \n",
            " 7   Q5      60 non-null     object\n",
            " 8   Q6      60 non-null     int64 \n",
            "dtypes: int64(7), object(2)\n",
            "memory usage: 4.3+ KB\n",
            "None\n"
          ],
          "name": "stdout"
        }
      ]
    },
    {
      "cell_type": "markdown",
      "metadata": {
        "id": "pbfwHq2y4ASy"
      },
      "source": [
        "#Missing data\n",
        "There are a few data points missing. \n",
        "We will ignore these participnats as we want to look at the overall questions in this example. \n",
        "\n",
        "```\n",
        "Use df. dropna() to drop rows with NaN from a Pandas dataframede\n",
        "```"
      ]
    },
    {
      "cell_type": "code",
      "metadata": {
        "colab": {
          "base_uri": "https://localhost:8080/"
        },
        "id": "jNvIcHrK4gnx",
        "outputId": "c0e59799-d2e3-4002-e17b-b61616a1682f"
      },
      "source": [
        "#We have 2 missing values they are empty strings, which Pandas doesn't recognise as null.\n",
        "#let's replace the empty cells with a nan object\n",
        "print(df.shape) #shows 60 rows \n",
        "df.replace(\" \", np.nan, inplace=True) #replace blank values \n",
        "print(df.isnull().sum()) #note that we now have two values Q1 and Q5 that need removing\n",
        "df = df.dropna(axis='rows') #assign our df to remove the null rows \n",
        "df = df.apply(pd.to_numeric) #ensure all data is numeric for analysis \n",
        "print(df.shape) #shows 58 rows\n",
        "print(df.info())\n"
      ],
      "execution_count": 154,
      "outputs": [
        {
          "output_type": "stream",
          "text": [
            "(60, 9)\n",
            "Part      0\n",
            "Gender    0\n",
            "Age       0\n",
            "Q1        1\n",
            "Q2        0\n",
            "Q3        0\n",
            "Q4        0\n",
            "Q5        1\n",
            "Q6        0\n",
            "dtype: int64\n",
            "(58, 9)\n",
            "<class 'pandas.core.frame.DataFrame'>\n",
            "Int64Index: 58 entries, 0 to 59\n",
            "Data columns (total 9 columns):\n",
            " #   Column  Non-Null Count  Dtype\n",
            "---  ------  --------------  -----\n",
            " 0   Part    58 non-null     int64\n",
            " 1   Gender  58 non-null     int64\n",
            " 2   Age     58 non-null     int64\n",
            " 3   Q1      58 non-null     int64\n",
            " 4   Q2      58 non-null     int64\n",
            " 5   Q3      58 non-null     int64\n",
            " 6   Q4      58 non-null     int64\n",
            " 7   Q5      58 non-null     int64\n",
            " 8   Q6      58 non-null     int64\n",
            "dtypes: int64(9)\n",
            "memory usage: 4.5 KB\n",
            "None\n"
          ],
          "name": "stdout"
        }
      ]
    },
    {
      "cell_type": "code",
      "metadata": {
        "colab": {
          "base_uri": "https://localhost:8080/",
          "height": 297
        },
        "id": "jcxSdtPJ5JMF",
        "outputId": "f714a96d-96ae-4550-bf7c-e7cf1f43ac93"
      },
      "source": [
        "#print a few basic statistics\n",
        "df.describe()"
      ],
      "execution_count": 155,
      "outputs": [
        {
          "output_type": "execute_result",
          "data": {
            "text/html": [
              "<div>\n",
              "<style scoped>\n",
              "    .dataframe tbody tr th:only-of-type {\n",
              "        vertical-align: middle;\n",
              "    }\n",
              "\n",
              "    .dataframe tbody tr th {\n",
              "        vertical-align: top;\n",
              "    }\n",
              "\n",
              "    .dataframe thead th {\n",
              "        text-align: right;\n",
              "    }\n",
              "</style>\n",
              "<table border=\"1\" class=\"dataframe\">\n",
              "  <thead>\n",
              "    <tr style=\"text-align: right;\">\n",
              "      <th></th>\n",
              "      <th>Part</th>\n",
              "      <th>Gender</th>\n",
              "      <th>Age</th>\n",
              "      <th>Q1</th>\n",
              "      <th>Q2</th>\n",
              "      <th>Q3</th>\n",
              "      <th>Q4</th>\n",
              "      <th>Q5</th>\n",
              "      <th>Q6</th>\n",
              "    </tr>\n",
              "  </thead>\n",
              "  <tbody>\n",
              "    <tr>\n",
              "      <th>count</th>\n",
              "      <td>58.000000</td>\n",
              "      <td>58.000000</td>\n",
              "      <td>58.000000</td>\n",
              "      <td>58.000000</td>\n",
              "      <td>58.000000</td>\n",
              "      <td>58.000000</td>\n",
              "      <td>58.000000</td>\n",
              "      <td>58.000000</td>\n",
              "      <td>58.000000</td>\n",
              "    </tr>\n",
              "    <tr>\n",
              "      <th>mean</th>\n",
              "      <td>29.896552</td>\n",
              "      <td>1.517241</td>\n",
              "      <td>38.034483</td>\n",
              "      <td>4.224138</td>\n",
              "      <td>4.241379</td>\n",
              "      <td>3.827586</td>\n",
              "      <td>4.189655</td>\n",
              "      <td>4.293103</td>\n",
              "      <td>4.103448</td>\n",
              "    </tr>\n",
              "    <tr>\n",
              "      <th>std</th>\n",
              "      <td>17.436290</td>\n",
              "      <td>0.504067</td>\n",
              "      <td>12.257422</td>\n",
              "      <td>1.717231</td>\n",
              "      <td>1.603837</td>\n",
              "      <td>1.707958</td>\n",
              "      <td>1.711231</td>\n",
              "      <td>1.716878</td>\n",
              "      <td>1.744059</td>\n",
              "    </tr>\n",
              "    <tr>\n",
              "      <th>min</th>\n",
              "      <td>1.000000</td>\n",
              "      <td>1.000000</td>\n",
              "      <td>18.000000</td>\n",
              "      <td>1.000000</td>\n",
              "      <td>1.000000</td>\n",
              "      <td>1.000000</td>\n",
              "      <td>1.000000</td>\n",
              "      <td>1.000000</td>\n",
              "      <td>1.000000</td>\n",
              "    </tr>\n",
              "    <tr>\n",
              "      <th>25%</th>\n",
              "      <td>15.250000</td>\n",
              "      <td>1.000000</td>\n",
              "      <td>28.000000</td>\n",
              "      <td>3.000000</td>\n",
              "      <td>3.000000</td>\n",
              "      <td>2.250000</td>\n",
              "      <td>3.000000</td>\n",
              "      <td>3.000000</td>\n",
              "      <td>3.000000</td>\n",
              "    </tr>\n",
              "    <tr>\n",
              "      <th>50%</th>\n",
              "      <td>29.500000</td>\n",
              "      <td>2.000000</td>\n",
              "      <td>39.000000</td>\n",
              "      <td>4.000000</td>\n",
              "      <td>4.500000</td>\n",
              "      <td>4.000000</td>\n",
              "      <td>4.000000</td>\n",
              "      <td>4.000000</td>\n",
              "      <td>4.000000</td>\n",
              "    </tr>\n",
              "    <tr>\n",
              "      <th>75%</th>\n",
              "      <td>44.500000</td>\n",
              "      <td>2.000000</td>\n",
              "      <td>48.000000</td>\n",
              "      <td>5.000000</td>\n",
              "      <td>5.000000</td>\n",
              "      <td>5.000000</td>\n",
              "      <td>5.750000</td>\n",
              "      <td>6.000000</td>\n",
              "      <td>5.750000</td>\n",
              "    </tr>\n",
              "    <tr>\n",
              "      <th>max</th>\n",
              "      <td>60.000000</td>\n",
              "      <td>2.000000</td>\n",
              "      <td>56.000000</td>\n",
              "      <td>7.000000</td>\n",
              "      <td>7.000000</td>\n",
              "      <td>7.000000</td>\n",
              "      <td>7.000000</td>\n",
              "      <td>7.000000</td>\n",
              "      <td>7.000000</td>\n",
              "    </tr>\n",
              "  </tbody>\n",
              "</table>\n",
              "</div>"
            ],
            "text/plain": [
              "            Part     Gender        Age  ...         Q4         Q5         Q6\n",
              "count  58.000000  58.000000  58.000000  ...  58.000000  58.000000  58.000000\n",
              "mean   29.896552   1.517241  38.034483  ...   4.189655   4.293103   4.103448\n",
              "std    17.436290   0.504067  12.257422  ...   1.711231   1.716878   1.744059\n",
              "min     1.000000   1.000000  18.000000  ...   1.000000   1.000000   1.000000\n",
              "25%    15.250000   1.000000  28.000000  ...   3.000000   3.000000   3.000000\n",
              "50%    29.500000   2.000000  39.000000  ...   4.000000   4.000000   4.000000\n",
              "75%    44.500000   2.000000  48.000000  ...   5.750000   6.000000   5.750000\n",
              "max    60.000000   2.000000  56.000000  ...   7.000000   7.000000   7.000000\n",
              "\n",
              "[8 rows x 9 columns]"
            ]
          },
          "metadata": {
            "tags": []
          },
          "execution_count": 155
        }
      ]
    },
    {
      "cell_type": "code",
      "metadata": {
        "colab": {
          "base_uri": "https://localhost:8080/"
        },
        "id": "P6CZ_5DLISx2",
        "outputId": "2bf71862-5324-4a0a-c894-dfe855627846"
      },
      "source": [
        "#desciptive stats - how many males vs females are there?\n",
        "#male = 1 female = 2 in this case \n",
        "#calculate count\n",
        "counts = df[\"Gender\"].value_counts()\n",
        "#calculate a basic percentage number\n",
        "percent = df[\"Gender\"].value_counts(normalize=True)\n",
        "#calculate a basic percentage number with % sign \n",
        "percent100 = df[\"Gender\"].value_counts(normalize=True).mul(100).round(1).astype(str) + \"%\"\n",
        "#create a new dataframe to view the data\n",
        "df_gender = pd.DataFrame({\"gender_count\" : counts, \"percentage\" : percent100})\n",
        "print(df_gender)"
      ],
      "execution_count": 156,
      "outputs": [
        {
          "output_type": "stream",
          "text": [
            "   gender_count percentage\n",
            "2            30      51.7%\n",
            "1            28      48.3%\n"
          ],
          "name": "stdout"
        }
      ]
    },
    {
      "cell_type": "markdown",
      "metadata": {
        "id": "_zHyNOk4190T"
      },
      "source": [
        "#Calculating overall scores on a questionnaire\n",
        "\n",
        "* If the questions constitute a scale, you will need to add up (or average) the\n",
        "answers to different questions. For example, if the questions are all about job satisfaction (as in the example), we might have to add them up to get a total score for job satisfaction. There may be just one total, or sometimes different questions have to be added up to make sub-scales.\n",
        "\n",
        "* If using a published questionnaire, make sure you find the instructions. These may be in a manual or in a journal article. They will give important information on how to calculate the overall score (e.g. whether it is a total or an average, whether there are subscales, whether there are any reverse-scored questions, whether certain questions need to be ignored for any reason). The same source will also tell you who the questionnaire was tested on (the so-called norm group) and what their mean score was; you may wish to compare your own participants’ mean against the norm group"
      ]
    },
    {
      "cell_type": "markdown",
      "metadata": {
        "id": "cb8L-piW2iXU"
      },
      "source": [
        "#Reverse-scored questions: what they are\n",
        "* We will see how to add up scores in a minute, but first you may have to deal with reverse-scored questions.\n",
        "\n",
        "* If the questions are about how happy people are in their job, a typical question might ask people how much they agree with the statement “I enjoy coming to work.” Obviously the more people agree with this statement, the happier they are in their job. The people who most strongly agree with the statement get the highest score.\n",
        "\n",
        "* However there might be some questions such as “If I could give up work\n",
        "tomorrow, I would.” In this case, the more people agree with the statement, the less they are happy in their job. If the questionnaire has been devised and published by someone else, they should have made it clear if there are any such questions.\n",
        "\n",
        "#Reverse-scored questions: How to deal with them\n",
        "The score needs to be amended so that low scores are changed into high\n",
        "scores, and vice versa.\n",
        "\n",
        "To keep an audit trail and prevent mistakes, it is advisable to keep the old variable as it is and to create a new variable with a new name, such as Q3rev for a reversed version of Q3.\n",
        "\n",
        "The calculation to reverse the questions is actually quite simple: As it is a 7 stage likert scale we can use 8 - Q3 value.\n",
        "\n",
        "* Participant’s score 1 2 3 4 5 6 7 \n",
        "* Reverse score 7 6 5 4 3 2 1 (subtract from 8)\n",
        "* Total of score and reverse score 8 8 8 8 8 8 8"
      ]
    },
    {
      "cell_type": "code",
      "metadata": {
        "colab": {
          "base_uri": "https://localhost:8080/",
          "height": 221
        },
        "id": "1iCJGQJdAXdm",
        "outputId": "11af828c-a9d2-45f9-f22c-38b41506e265"
      },
      "source": [
        "#okay now to create a new Q3_rev column and position it next to the origional Q3\n",
        "# Third position would be at index 2, because of zero-indexing.\n",
        "Q3_rev = 8 - df[\"Q3\"]\n",
        "print(type(Q3_rev))\n",
        "df.insert(5, 'Q3_rev', Q3_rev)\n",
        "df.head()"
      ],
      "execution_count": 157,
      "outputs": [
        {
          "output_type": "stream",
          "text": [
            "<class 'pandas.core.series.Series'>\n"
          ],
          "name": "stdout"
        },
        {
          "output_type": "execute_result",
          "data": {
            "text/html": [
              "<div>\n",
              "<style scoped>\n",
              "    .dataframe tbody tr th:only-of-type {\n",
              "        vertical-align: middle;\n",
              "    }\n",
              "\n",
              "    .dataframe tbody tr th {\n",
              "        vertical-align: top;\n",
              "    }\n",
              "\n",
              "    .dataframe thead th {\n",
              "        text-align: right;\n",
              "    }\n",
              "</style>\n",
              "<table border=\"1\" class=\"dataframe\">\n",
              "  <thead>\n",
              "    <tr style=\"text-align: right;\">\n",
              "      <th></th>\n",
              "      <th>Part</th>\n",
              "      <th>Gender</th>\n",
              "      <th>Age</th>\n",
              "      <th>Q1</th>\n",
              "      <th>Q2</th>\n",
              "      <th>Q3_rev</th>\n",
              "      <th>Q3</th>\n",
              "      <th>Q4</th>\n",
              "      <th>Q5</th>\n",
              "      <th>Q6</th>\n",
              "    </tr>\n",
              "  </thead>\n",
              "  <tbody>\n",
              "    <tr>\n",
              "      <th>0</th>\n",
              "      <td>1</td>\n",
              "      <td>1</td>\n",
              "      <td>23</td>\n",
              "      <td>7</td>\n",
              "      <td>4</td>\n",
              "      <td>5</td>\n",
              "      <td>3</td>\n",
              "      <td>5</td>\n",
              "      <td>6</td>\n",
              "      <td>5</td>\n",
              "    </tr>\n",
              "    <tr>\n",
              "      <th>1</th>\n",
              "      <td>2</td>\n",
              "      <td>2</td>\n",
              "      <td>46</td>\n",
              "      <td>2</td>\n",
              "      <td>2</td>\n",
              "      <td>3</td>\n",
              "      <td>5</td>\n",
              "      <td>1</td>\n",
              "      <td>4</td>\n",
              "      <td>2</td>\n",
              "    </tr>\n",
              "    <tr>\n",
              "      <th>2</th>\n",
              "      <td>3</td>\n",
              "      <td>2</td>\n",
              "      <td>42</td>\n",
              "      <td>4</td>\n",
              "      <td>4</td>\n",
              "      <td>3</td>\n",
              "      <td>5</td>\n",
              "      <td>4</td>\n",
              "      <td>3</td>\n",
              "      <td>3</td>\n",
              "    </tr>\n",
              "    <tr>\n",
              "      <th>3</th>\n",
              "      <td>4</td>\n",
              "      <td>1</td>\n",
              "      <td>18</td>\n",
              "      <td>5</td>\n",
              "      <td>5</td>\n",
              "      <td>6</td>\n",
              "      <td>2</td>\n",
              "      <td>5</td>\n",
              "      <td>6</td>\n",
              "      <td>7</td>\n",
              "    </tr>\n",
              "    <tr>\n",
              "      <th>4</th>\n",
              "      <td>5</td>\n",
              "      <td>2</td>\n",
              "      <td>21</td>\n",
              "      <td>5</td>\n",
              "      <td>6</td>\n",
              "      <td>7</td>\n",
              "      <td>1</td>\n",
              "      <td>7</td>\n",
              "      <td>7</td>\n",
              "      <td>7</td>\n",
              "    </tr>\n",
              "  </tbody>\n",
              "</table>\n",
              "</div>"
            ],
            "text/plain": [
              "   Part  Gender  Age  Q1  Q2  Q3_rev  Q3  Q4  Q5  Q6\n",
              "0     1       1   23   7   4       5   3   5   6   5\n",
              "1     2       2   46   2   2       3   5   1   4   2\n",
              "2     3       2   42   4   4       3   5   4   3   3\n",
              "3     4       1   18   5   5       6   2   5   6   7\n",
              "4     5       2   21   5   6       7   1   7   7   7"
            ]
          },
          "metadata": {
            "tags": []
          },
          "execution_count": 157
        }
      ]
    },
    {
      "cell_type": "code",
      "metadata": {
        "colab": {
          "base_uri": "https://localhost:8080/"
        },
        "id": "Bf4Y7HmpOx9O",
        "outputId": "ed06d85b-d0f0-4293-b1eb-e61b8c8e801f"
      },
      "source": [
        "#Add up our scores: ensure you use Q3_rev\n",
        "#create a new pd series summing all 6 questions \n",
        "JobSatTotal = df[\"Q1\"] + df[\"Q2\"] + df[\"Q3_rev\"] + df[\"Q4\"] + df[\"Q5\"] + df[\"Q6\"]\n",
        "\n",
        "#calculate the mean score \n",
        "JobSatMean = JobSatTotal/6\n",
        "\n",
        "#check the scores: \n",
        "#For the example file, the correct first few means are 5.33, 2.33 and 3.50.\n",
        "JobSatMean.head(3)"
      ],
      "execution_count": 162,
      "outputs": [
        {
          "output_type": "execute_result",
          "data": {
            "text/plain": [
              "0    5.333333\n",
              "1    2.333333\n",
              "2    3.500000\n",
              "dtype: float64"
            ]
          },
          "metadata": {
            "tags": []
          },
          "execution_count": 162
        }
      ]
    },
    {
      "cell_type": "markdown",
      "metadata": {
        "id": "KSXhvQahP7Rz"
      },
      "source": [
        "#Checking for problematic questions\n",
        "When you have given your questionnaire to a sample of people, you can check\n",
        "for questions which might cause a problem. There are three ways in which\n",
        "questions might stand out as being problematic. The first two are matters of\n",
        "opinion – their correlations and standard deviations. The third is to look at how they affect Cronbach’s alpha.\n",
        "\n",
        "* Firstly, you can look at the correlations between questions"
      ]
    },
    {
      "cell_type": "code",
      "metadata": {
        "colab": {
          "base_uri": "https://localhost:8080/"
        },
        "id": "C4pNP6hVQJYd",
        "outputId": "0651fee9-1cfa-460f-f8e4-35007310c5c2"
      },
      "source": [
        "#Pearson product-moment correlation\n",
        "corrQ1_Q2 = stats.pearsonr(df[\"Q1\"], df[\"Q2\"])\n",
        "print('Pearsons: corr and p-value:{}'.format(corrQ1_Q2))\n",
        "corrQ1_Q2, _ = stats.pearsonr(df[\"Q1\"], df[\"Q2\"]) #ignore second value \n",
        "print('Pearsons correlation: %.3f' % corrQ1_Q2)\n"
      ],
      "execution_count": 175,
      "outputs": [
        {
          "output_type": "stream",
          "text": [
            "Pearsons: corr and p-value:(0.5915271573405585, 1.0100016148002424e-06)\n",
            "Pearsons correlation: 0.592\n"
          ],
          "name": "stdout"
        }
      ]
    },
    {
      "cell_type": "markdown",
      "metadata": {
        "id": "hJYWsfgjRiom"
      },
      "source": [
        "* For example, this shows that the correlation coefficient between\n",
        "Q1 and Q2 is .592, that this is highly significant (p < .001).\n",
        "\n",
        "* If one or more of the questions has a particularly low correlation with the others, it suggests that particular question is not getting at the same concept as the other questions. (You might think it is, but perhaps your participants are interpreting the question differently from you.) Read over the question and consider eliminating it from the analysis. Or, if some questions correlate with each other but not with the rest, it may indicate that your questions are tapping into two or more sub-scales, and you might want to consider a factor analysis.\n",
        "\n",
        "* If one of the questions is negatively correlated with the others, it would appear that you forgot to reverse-score it; or that your respondents are interpreting the question very differently from the way you expected. If the latter, you may need to eliminate it."
      ]
    },
    {
      "cell_type": "markdown",
      "metadata": {
        "id": "f5Y26UkXUrhr"
      },
      "source": [
        "Another thing you could consider looking at is the standard deviations. If one of the questions has a much smaller standard deviation than the others, it appears that there is very little difference between participants as to how they answer that question, so perhaps it is not telling you anything. Consider whether it is worth keeping.\n",
        "\n",
        "Of course, if you discard questions for any reason this is an important part of your findings and should be reported in your Results section."
      ]
    },
    {
      "cell_type": "code",
      "metadata": {
        "colab": {
          "base_uri": "https://localhost:8080/",
          "height": 297
        },
        "id": "xmSp49NxU28U",
        "outputId": "b0716293-edfb-4553-d663-6a041826f839"
      },
      "source": [
        "#lets review the standard deviations\n",
        "df_final = df[[\"Q1\",\"Q2\",\"Q3_rev\",\"Q4\",\"Q5\",\"Q6\"]].copy()\n",
        "df_final.describe()\n",
        "#none appear very small so we can consider keeping them all in "
      ],
      "execution_count": 182,
      "outputs": [
        {
          "output_type": "execute_result",
          "data": {
            "text/html": [
              "<div>\n",
              "<style scoped>\n",
              "    .dataframe tbody tr th:only-of-type {\n",
              "        vertical-align: middle;\n",
              "    }\n",
              "\n",
              "    .dataframe tbody tr th {\n",
              "        vertical-align: top;\n",
              "    }\n",
              "\n",
              "    .dataframe thead th {\n",
              "        text-align: right;\n",
              "    }\n",
              "</style>\n",
              "<table border=\"1\" class=\"dataframe\">\n",
              "  <thead>\n",
              "    <tr style=\"text-align: right;\">\n",
              "      <th></th>\n",
              "      <th>Q1</th>\n",
              "      <th>Q2</th>\n",
              "      <th>Q3_rev</th>\n",
              "      <th>Q4</th>\n",
              "      <th>Q5</th>\n",
              "      <th>Q6</th>\n",
              "    </tr>\n",
              "  </thead>\n",
              "  <tbody>\n",
              "    <tr>\n",
              "      <th>count</th>\n",
              "      <td>58.000000</td>\n",
              "      <td>58.000000</td>\n",
              "      <td>58.000000</td>\n",
              "      <td>58.000000</td>\n",
              "      <td>58.000000</td>\n",
              "      <td>58.000000</td>\n",
              "    </tr>\n",
              "    <tr>\n",
              "      <th>mean</th>\n",
              "      <td>4.224138</td>\n",
              "      <td>4.241379</td>\n",
              "      <td>4.172414</td>\n",
              "      <td>4.189655</td>\n",
              "      <td>4.293103</td>\n",
              "      <td>4.103448</td>\n",
              "    </tr>\n",
              "    <tr>\n",
              "      <th>std</th>\n",
              "      <td>1.717231</td>\n",
              "      <td>1.603837</td>\n",
              "      <td>1.707958</td>\n",
              "      <td>1.711231</td>\n",
              "      <td>1.716878</td>\n",
              "      <td>1.744059</td>\n",
              "    </tr>\n",
              "    <tr>\n",
              "      <th>min</th>\n",
              "      <td>1.000000</td>\n",
              "      <td>1.000000</td>\n",
              "      <td>1.000000</td>\n",
              "      <td>1.000000</td>\n",
              "      <td>1.000000</td>\n",
              "      <td>1.000000</td>\n",
              "    </tr>\n",
              "    <tr>\n",
              "      <th>25%</th>\n",
              "      <td>3.000000</td>\n",
              "      <td>3.000000</td>\n",
              "      <td>3.000000</td>\n",
              "      <td>3.000000</td>\n",
              "      <td>3.000000</td>\n",
              "      <td>3.000000</td>\n",
              "    </tr>\n",
              "    <tr>\n",
              "      <th>50%</th>\n",
              "      <td>4.000000</td>\n",
              "      <td>4.500000</td>\n",
              "      <td>4.000000</td>\n",
              "      <td>4.000000</td>\n",
              "      <td>4.000000</td>\n",
              "      <td>4.000000</td>\n",
              "    </tr>\n",
              "    <tr>\n",
              "      <th>75%</th>\n",
              "      <td>5.000000</td>\n",
              "      <td>5.000000</td>\n",
              "      <td>5.750000</td>\n",
              "      <td>5.750000</td>\n",
              "      <td>6.000000</td>\n",
              "      <td>5.750000</td>\n",
              "    </tr>\n",
              "    <tr>\n",
              "      <th>max</th>\n",
              "      <td>7.000000</td>\n",
              "      <td>7.000000</td>\n",
              "      <td>7.000000</td>\n",
              "      <td>7.000000</td>\n",
              "      <td>7.000000</td>\n",
              "      <td>7.000000</td>\n",
              "    </tr>\n",
              "  </tbody>\n",
              "</table>\n",
              "</div>"
            ],
            "text/plain": [
              "              Q1         Q2     Q3_rev         Q4         Q5         Q6\n",
              "count  58.000000  58.000000  58.000000  58.000000  58.000000  58.000000\n",
              "mean    4.224138   4.241379   4.172414   4.189655   4.293103   4.103448\n",
              "std     1.717231   1.603837   1.707958   1.711231   1.716878   1.744059\n",
              "min     1.000000   1.000000   1.000000   1.000000   1.000000   1.000000\n",
              "25%     3.000000   3.000000   3.000000   3.000000   3.000000   3.000000\n",
              "50%     4.000000   4.500000   4.000000   4.000000   4.000000   4.000000\n",
              "75%     5.000000   5.000000   5.750000   5.750000   6.000000   5.750000\n",
              "max     7.000000   7.000000   7.000000   7.000000   7.000000   7.000000"
            ]
          },
          "metadata": {
            "tags": []
          },
          "execution_count": 182
        }
      ]
    },
    {
      "cell_type": "markdown",
      "metadata": {
        "id": "0AMdygVVWZPC"
      },
      "source": [
        "#Cronbach’s alpha: how to calculate it\n",
        "Cronbach’s alpha is a measure of how much the questions measure the same\n",
        "thing (i.e. how much the questions as a whole correlate with each other).Again, if you have any reverse-scored questions the reverse-scored questions are the ones to use. \n",
        "\n",
        "We will use a function - see this link for a far more detailed tutorial:\n",
        "https://towardsdatascience.com/cronbachs-alpha-theory-and-application-in-python-d2915dd63586 \n",
        "\n",
        "\n"
      ]
    },
    {
      "cell_type": "code",
      "metadata": {
        "colab": {
          "base_uri": "https://localhost:8080/"
        },
        "id": "i5LrnHS-XLKn",
        "outputId": "e8a94370-5fb2-40ec-eb5a-631b8a6b8e9d"
      },
      "source": [
        "#Cronbach’s alpha for Q1, Q2, Q3rev, Q4, Q5 and Q6. \n",
        "#use out df_final with this function: \n",
        "def cronbach_alpha(df):\n",
        "    # 1. Transform the df into a correlation matrix\n",
        "    df_corr = df.corr()\n",
        "    \n",
        "    # 2.1 Calculate N\n",
        "    # The number of variables equals the number of columns in the df\n",
        "    N = df.shape[1]\n",
        "    \n",
        "    # 2.2 Calculate R\n",
        "    # For this, we'll loop through the columns and append every\n",
        "    # relevant correlation to an array calles \"r_s\". Then, we'll\n",
        "    # calculate the mean of \"r_s\"\n",
        "    rs = np.array([])\n",
        "    for i, col in enumerate(df_corr.columns):\n",
        "        sum_ = df_corr[col][i+1:].values\n",
        "        rs = np.append(sum_, rs)\n",
        "    mean_r = np.mean(rs)\n",
        "    \n",
        "   # 3. Use the formula to calculate Cronbach's Alpha \n",
        "    cronbach_alpha = (N * mean_r) / (1 + (N - 1) * mean_r)\n",
        "    return cronbach_alpha\n",
        "\n",
        "\n",
        "cronbach_alpha(df_final) #the result is looking good. See info below. "
      ],
      "execution_count": 185,
      "outputs": [
        {
          "output_type": "execute_result",
          "data": {
            "text/plain": [
              "0.8745907560895332"
            ]
          },
          "metadata": {
            "tags": []
          },
          "execution_count": 185
        }
      ]
    },
    {
      "cell_type": "markdown",
      "metadata": {
        "id": "Opf6DmC7YFMk"
      },
      "source": [
        "* There is no hard-and-fast rule on what is an acceptable level for Cronbach’s\n",
        "alpha. Most people would find a figure of above .8 good, and a figure above .7\n",
        "acceptable. Some people (but not everyone) consider that it is possible for alpha to be too high, and say that if it is above .9 then the scale contains too many items that are just the same as each other, and is wasteful53.\n",
        "\n",
        "* If Cronbach’s alpha is too low, you might consider excluding problematic\n",
        "questions (see sections 12.4.1 and 12.4.3). Or it might be appropriate to carry\n",
        "out a factor analysis to create two or more separate scales; each of these is likely to have a higher Cronbach’s alpha than the overall scale.\n",
        "\n",
        "In our case here we have 0.87 so we can assume the questions are all measuruing the same thing for our research. \n",
        "\n",
        "END"
      ]
    }
  ]
}